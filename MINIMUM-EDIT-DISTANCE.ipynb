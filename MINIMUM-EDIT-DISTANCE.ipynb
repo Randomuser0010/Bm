{
 "cells": [
  {
   "cell_type": "code",
   "execution_count": 10,
   "metadata": {},
   "outputs": [
    {
     "name": "stdout",
     "output_type": "stream",
     "text": [
      "MED: 8\n"
     ]
    }
   ],
   "source": [
    "def min_edit_distance(str1, str2):\n",
    "    \n",
    "    m, n = len(str1), len(str2)\n",
    "    dp = [[0] * (n + 1) for _ in range(m + 1)]\n",
    "\n",
    "    for i in range(m + 1):\n",
    "        dp[i][0] = i\n",
    "    for j in range(n + 1):\n",
    "        dp[0][j] = j\n",
    "        \n",
    "    substitution_cost = 2\n",
    "    \n",
    "    for i in range(1, m + 1):\n",
    "        for j in range(1, n + 1):\n",
    "            cost = 0 if str1[i - 1] == str2[j - 1] else substitution_cost\n",
    "            dp[i][j] = min(\n",
    "                dp[i - 1][j] + 1,  \n",
    "                dp[i][j - 1] + 1,  \n",
    "                dp[i - 1][j - 1] + cost  \n",
    "            )\n",
    "\n",
    "    return dp[m][n]\n",
    "\n",
    "if __name__ == '__main__':\n",
    "    \n",
    "    s1 = \"INTENTION\"\n",
    "    s2 = \"EXECUTION\"\n",
    "  \n",
    "    edit_distance = min_edit_distance(s1,s2)\n",
    "    print(F'MED: {edit_distance}')\n",
    "    "
   ]
  }
 ],
 "metadata": {
  "kernelspec": {
   "display_name": "venv",
   "language": "python",
   "name": "python3"
  },
  "language_info": {
   "codemirror_mode": {
    "name": "ipython",
    "version": 3
   },
   "file_extension": ".py",
   "mimetype": "text/x-python",
   "name": "python",
   "nbconvert_exporter": "python",
   "pygments_lexer": "ipython3",
   "version": "3.11.4"
  }
 },
 "nbformat": 4,
 "nbformat_minor": 2
}
