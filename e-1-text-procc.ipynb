{
 "cells": [
  {
   "cell_type": "markdown",
   "metadata": {},
   "source": [
    "PRANAV KUMAR \n",
    "PRN 1032200232\n",
    "NLP [N1]"
   ]
  },
  {
   "cell_type": "code",
   "execution_count": 57,
   "metadata": {},
   "outputs": [
    {
     "name": "stderr",
     "output_type": "stream",
     "text": [
      "[nltk_data] Downloading package punkt to\n",
      "[nltk_data]     C:\\Users\\prana\\AppData\\Roaming\\nltk_data...\n",
      "[nltk_data]   Package punkt is already up-to-date!\n",
      "[nltk_data] Downloading package stopwords to\n",
      "[nltk_data]     C:\\Users\\prana\\AppData\\Roaming\\nltk_data...\n",
      "[nltk_data]   Package stopwords is already up-to-date!\n",
      "[nltk_data] Downloading package wordnet to\n",
      "[nltk_data]     C:\\Users\\prana\\AppData\\Roaming\\nltk_data...\n",
      "[nltk_data]   Package wordnet is already up-to-date!\n",
      "[nltk_data] Downloading package averaged_perceptron_tagger to\n",
      "[nltk_data]     C:\\Users\\prana\\AppData\\Roaming\\nltk_data...\n",
      "[nltk_data]   Package averaged_perceptron_tagger is already up-to-\n",
      "[nltk_data]       date!\n"
     ]
    },
    {
     "data": {
      "text/plain": [
       "True"
      ]
     },
     "execution_count": 57,
     "metadata": {},
     "output_type": "execute_result"
    }
   ],
   "source": [
    "import nltk\n",
    "from nltk.corpus import stopwords\n",
    "from nltk.tokenize import word_tokenize\n",
    "from nltk.stem import PorterStemmer,WordNetLemmatizer\n",
    "from nltk.util import ngrams\n",
    "import string\n",
    "from nltk import pos_tag\n",
    "import collections\n",
    "import matplotlib.pyplot as plt\n",
    "\n",
    "nltk.download('punkt')\n",
    "nltk.download('stopwords')\n",
    "nltk.download('wordnet')\n",
    "nltk.download('averaged_perceptron_tagger')"
   ]
  },
  {
   "cell_type": "code",
   "execution_count": 39,
   "metadata": {},
   "outputs": [],
   "source": [
    "text = \"\"\"\n",
    "Wikipedia is a multilingual, web-based, free encyclopedia based on a model of openly editable content. It is the largest and most popular general reference work on the Internet, and is one of the most popular websites by Alexa rank. It is owned and supported by the Wikimedia Foundation, a non-profit organization which operates on money it receives from donors.\n",
    "Wikipedia was launched on January 15, 2001, by Jimmy Wales and Larry Sanger. Sanger coined its name, as a portmanteau of wiki and \"encyclopedia\". Initially an English-language encyclopedia, versions in other languages were quickly developed. With 5,721,582 articles, the English Wikipedia is the largest of the more than 290 Wikipedia encyclopedias. Overall, Wikipedia comprises more than 40 million articles in 301 different languages and had 18 billion page views and nearly 500 million unique visitors each month as of February 2014.\n",
    "In 2005, Nature published a peer review comparing 42 science articles from Encyclopædia Britannica and Wikipedia and found that Wikipedia's level of accuracy approached that of Encyclopædia Britannica. Time magazine stated that the open-door policy of allowing anyone to edit had made Wikipedia the biggest and possibly the best encyclopedia in the world and it was testament to the vision of Jimmy Wales.\n",
    "Wikipedia has been criticized for exhibiting systemic bias, for presenting a mixture of \"truths, half truths, and some falsehoods\", and for being subject to manipulation and spin in controversial topics. In 2017, Facebook announced that it would help readers detect fake news by suitable links to Wikipedia articles. YouTube announced a similar plan in 2018. In response, The Washington Post headlined, \"Wikipedia, the ‘good cop’ of the Internet\".\n",
    "\"\"\""
   ]
  },
  {
   "cell_type": "code",
   "execution_count": 42,
   "metadata": {},
   "outputs": [],
   "source": [
    "data = text.strip()\n",
    "cleaned_data = data.lower()\n",
    "tokens = word_tokenize(cleaned_data)"
   ]
  },
  {
   "cell_type": "code",
   "execution_count": 43,
   "metadata": {},
   "outputs": [
    {
     "data": {
      "text/plain": [
       "171"
      ]
     },
     "execution_count": 43,
     "metadata": {},
     "output_type": "execute_result"
    }
   ],
   "source": [
    "vocabulary = set(tokens)\n",
    "len(vocabulary)"
   ]
  },
  {
   "cell_type": "code",
   "execution_count": 44,
   "metadata": {},
   "outputs": [],
   "source": [
    "cleaned_tokens = [text for text in tokens if text not in stopwords.words('english')]\n",
    "cleaned_tokens_2 = [text for text in cleaned_tokens if text not in string.punctuation]\n"
   ]
  },
  {
   "cell_type": "code",
   "execution_count": 45,
   "metadata": {},
   "outputs": [
    {
     "data": {
      "text/plain": [
       "31"
      ]
     },
     "execution_count": 45,
     "metadata": {},
     "output_type": "execute_result"
    }
   ],
   "source": [
    "#2) count of punctuations\n",
    "\n",
    "len(cleaned_tokens) - len(cleaned_tokens_2)"
   ]
  },
  {
   "cell_type": "code",
   "execution_count": 26,
   "metadata": {},
   "outputs": [
    {
     "data": {
      "text/plain": [
       "['wikipedia',\n",
       " 'multilingual',\n",
       " 'web-based',\n",
       " 'free',\n",
       " 'encyclopedia',\n",
       " 'based',\n",
       " 'model',\n",
       " 'openly',\n",
       " 'editable',\n",
       " 'content',\n",
       " 'largest',\n",
       " 'popular',\n",
       " 'general',\n",
       " 'reference',\n",
       " 'work',\n",
       " 'internet',\n",
       " 'one',\n",
       " 'popular',\n",
       " 'website',\n",
       " 'alexa',\n",
       " 'rank',\n",
       " 'owned',\n",
       " 'supported',\n",
       " 'wikimedia',\n",
       " 'foundation',\n",
       " 'non-profit',\n",
       " 'organization',\n",
       " 'operates',\n",
       " 'money',\n",
       " 'receives',\n",
       " 'donor',\n",
       " 'wikipedia',\n",
       " 'launched',\n",
       " 'january',\n",
       " '15',\n",
       " '2001',\n",
       " 'jimmy',\n",
       " 'wale',\n",
       " 'larry',\n",
       " 'sanger',\n",
       " 'sanger',\n",
       " 'coined',\n",
       " 'name',\n",
       " 'portmanteau',\n",
       " 'wiki',\n",
       " '``',\n",
       " 'encyclopedia',\n",
       " \"''\",\n",
       " 'initially',\n",
       " 'english-language',\n",
       " 'encyclopedia',\n",
       " 'version',\n",
       " 'language',\n",
       " 'quickly',\n",
       " 'developed',\n",
       " '5,721,582',\n",
       " 'article',\n",
       " 'english',\n",
       " 'wikipedia',\n",
       " 'largest',\n",
       " '290',\n",
       " 'wikipedia',\n",
       " 'encyclopedia',\n",
       " 'overall',\n",
       " 'wikipedia',\n",
       " 'comprises',\n",
       " '40',\n",
       " 'million',\n",
       " 'article',\n",
       " '301',\n",
       " 'different',\n",
       " 'language',\n",
       " '18',\n",
       " 'billion',\n",
       " 'page',\n",
       " 'view',\n",
       " 'nearly',\n",
       " '500',\n",
       " 'million',\n",
       " 'unique',\n",
       " 'visitor',\n",
       " 'month',\n",
       " 'february',\n",
       " '2014.',\n",
       " '2005',\n",
       " 'nature',\n",
       " 'published',\n",
       " 'peer',\n",
       " 'review',\n",
       " 'comparing',\n",
       " '42',\n",
       " 'science',\n",
       " 'article',\n",
       " 'encyclopædia',\n",
       " 'britannica',\n",
       " 'wikipedia',\n",
       " 'found',\n",
       " 'wikipedia',\n",
       " \"'s\",\n",
       " 'level',\n",
       " 'accuracy',\n",
       " 'approached',\n",
       " 'encyclopædia',\n",
       " 'britannica',\n",
       " 'time',\n",
       " 'magazine',\n",
       " 'stated',\n",
       " 'open-door',\n",
       " 'policy',\n",
       " 'allowing',\n",
       " 'anyone',\n",
       " 'edit',\n",
       " 'made',\n",
       " 'wikipedia',\n",
       " 'biggest',\n",
       " 'possibly',\n",
       " 'best',\n",
       " 'encyclopedia',\n",
       " 'world',\n",
       " 'testament',\n",
       " 'vision',\n",
       " 'jimmy',\n",
       " 'wale',\n",
       " 'wikipedia',\n",
       " 'criticized',\n",
       " 'exhibiting',\n",
       " 'systemic',\n",
       " 'bias',\n",
       " 'presenting',\n",
       " 'mixture',\n",
       " '``',\n",
       " 'truth',\n",
       " 'half',\n",
       " 'truth',\n",
       " 'falsehood',\n",
       " \"''\",\n",
       " 'subject',\n",
       " 'manipulation',\n",
       " 'spin',\n",
       " 'controversial',\n",
       " 'topic',\n",
       " '2017',\n",
       " 'facebook',\n",
       " 'announced',\n",
       " 'would',\n",
       " 'help',\n",
       " 'reader',\n",
       " 'detect',\n",
       " 'fake',\n",
       " 'news',\n",
       " 'suitable',\n",
       " 'link',\n",
       " 'wikipedia',\n",
       " 'article',\n",
       " 'youtube',\n",
       " 'announced',\n",
       " 'similar',\n",
       " 'plan',\n",
       " '2018.',\n",
       " 'response',\n",
       " 'washington',\n",
       " 'post',\n",
       " 'headlined',\n",
       " '``',\n",
       " 'wikipedia',\n",
       " '‘',\n",
       " 'good',\n",
       " 'cop',\n",
       " '’',\n",
       " 'internet',\n",
       " \"''\"]"
      ]
     },
     "execution_count": 26,
     "metadata": {},
     "output_type": "execute_result"
    }
   ],
   "source": [
    "lemm = WordNetLemmatizer()\n",
    "\n",
    "lemmatized_token = [lemm.lemmatize(word) for word in cleaned_tokens_2]\n",
    "lemmatized_token"
   ]
  },
  {
   "cell_type": "code",
   "execution_count": 46,
   "metadata": {},
   "outputs": [
    {
     "data": {
      "text/plain": [
       "138"
      ]
     },
     "execution_count": 46,
     "metadata": {},
     "output_type": "execute_result"
    }
   ],
   "source": [
    "#4) length of unique lemma\n",
    "\n",
    "unique_lemma = set(lemmatized_token)\n",
    "len(unique_lemma)"
   ]
  },
  {
   "cell_type": "code",
   "execution_count": 47,
   "metadata": {},
   "outputs": [
    {
     "data": {
      "image/png": "[encoded data removed]",
      "text/plain": [
       "<Figure size 640x480 with 1 Axes>"
      ]
     },
     "metadata": {},
     "output_type": "display_data"
    }
   ],
   "source": [
    "#3) Plot the distribution of each POS Tag using a barplot\n",
    "\n",
    "pos_tags = pos_tag(tokens)\n",
    "pos_counts = collections.Counter(tag for word, tag in pos_tags)\n",
    "plt.bar(pos_counts.keys(), pos_counts.values())\n",
    "plt.title('POS Tag Distribution')\n",
    "plt.xlabel('POS Tags')\n",
    "plt.ylabel('Frequency')\n",
    "plt.show()"
   ]
  },
  {
   "cell_type": "code",
   "execution_count": 55,
   "metadata": {},
   "outputs": [
    {
     "data": {
      "image/png": "[encoded data removed]",
      "text/plain": [
       "<Figure size 640x480 with 1 Axes>"
      ]
     },
     "metadata": {},
     "output_type": "display_data"
    }
   ],
   "source": [
    "#5) Plot the distribution of stopwords used in the text using barplot\n",
    "\n",
    "stop_words = [text for text in tokens if text.lower() in stopwords.words('english')]\n",
    "stop_counts = collections.Counter(stop_words)\n",
    "\n",
    "plt.bar(stop_counts.keys(), stop_counts.values())\n",
    "plt.title('Stopword Distribution')\n",
    "plt.xlabel('Stopword')\n",
    "plt.ylabel('Frequency')\n",
    "plt.show()\n"
   ]
  },
  {
   "cell_type": "code",
   "execution_count": 56,
   "metadata": {},
   "outputs": [
    {
     "data": {
      "text/plain": [
       "['is',\n",
       " 'a',\n",
       " 'on',\n",
       " 'a',\n",
       " 'of',\n",
       " 'it',\n",
       " 'is',\n",
       " 'the',\n",
       " 'and',\n",
       " 'most',\n",
       " 'on',\n",
       " 'the',\n",
       " 'and',\n",
       " 'is',\n",
       " 'of',\n",
       " 'the',\n",
       " 'most',\n",
       " 'by',\n",
       " 'it',\n",
       " 'is',\n",
       " 'and',\n",
       " 'by',\n",
       " 'the',\n",
       " 'a',\n",
       " 'which',\n",
       " 'on',\n",
       " 'it',\n",
       " 'from',\n",
       " 'was',\n",
       " 'on',\n",
       " 'by',\n",
       " 'and',\n",
       " 'its',\n",
       " 'as',\n",
       " 'a',\n",
       " 'of',\n",
       " 'and',\n",
       " 'an',\n",
       " 'in',\n",
       " 'other',\n",
       " 'were',\n",
       " 'with',\n",
       " 'the',\n",
       " 'is',\n",
       " 'the',\n",
       " 'of',\n",
       " 'the',\n",
       " 'more',\n",
       " 'than',\n",
       " 'more',\n",
       " 'than',\n",
       " 'in',\n",
       " 'and',\n",
       " 'had',\n",
       " 'and',\n",
       " 'each',\n",
       " 'as',\n",
       " 'of',\n",
       " 'in',\n",
       " 'a',\n",
       " 'from',\n",
       " 'and',\n",
       " 'and',\n",
       " 'that',\n",
       " 'of',\n",
       " 'that',\n",
       " 'of',\n",
       " 'that',\n",
       " 'the',\n",
       " 'of',\n",
       " 'to',\n",
       " 'had',\n",
       " 'the',\n",
       " 'and',\n",
       " 'the',\n",
       " 'in',\n",
       " 'the',\n",
       " 'and',\n",
       " 'it',\n",
       " 'was',\n",
       " 'to',\n",
       " 'the',\n",
       " 'of',\n",
       " 'has',\n",
       " 'been',\n",
       " 'for',\n",
       " 'for',\n",
       " 'a',\n",
       " 'of',\n",
       " 'and',\n",
       " 'some',\n",
       " 'and',\n",
       " 'for',\n",
       " 'being',\n",
       " 'to',\n",
       " 'and',\n",
       " 'in',\n",
       " 'in',\n",
       " 'that',\n",
       " 'it',\n",
       " 'by',\n",
       " 'to',\n",
       " 'a',\n",
       " 'in',\n",
       " 'in',\n",
       " 'the',\n",
       " 'the',\n",
       " 'of',\n",
       " 'the']"
      ]
     },
     "execution_count": 56,
     "metadata": {},
     "output_type": "execute_result"
    }
   ],
   "source": [
    "stop_words"
   ]
  },
  {
   "cell_type": "code",
   "execution_count": null,
   "metadata": {},
   "outputs": [],
   "source": []
  }
 ],
 "metadata": {
  "kernelspec": {
   "display_name": "venv",
   "language": "python",
   "name": "python3"
  },
  "language_info": {
   "codemirror_mode": {
    "name": "ipython",
    "version": 3
   },
   "file_extension": ".py",
   "mimetype": "text/x-python",
   "name": "python",
   "nbconvert_exporter": "python",
   "pygments_lexer": "ipython3",
   "version": "3.11.4"
  }
 },
 "nbformat": 4,
 "nbformat_minor": 2
}
